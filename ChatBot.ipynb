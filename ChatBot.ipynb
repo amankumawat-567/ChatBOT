{
  "nbformat": 4,
  "nbformat_minor": 0,
  "metadata": {
    "colab": {
      "provenance": []
    },
    "kernelspec": {
      "name": "python3",
      "display_name": "Python 3"
    },
    "language_info": {
      "name": "python"
    }
  },
  "cells": [
    {
      "cell_type": "markdown",
      "source": [
        "#ChatBOT"
      ],
      "metadata": {
        "id": "JbOeVW_bcz5u"
      }
    },
    {
      "cell_type": "code",
      "source": [],
      "metadata": {
        "id": "T95l2CAlBbWh"
      },
      "execution_count": null,
      "outputs": []
    }
  ]
}