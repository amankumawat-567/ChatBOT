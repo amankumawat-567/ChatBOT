{
  "nbformat": 4,
  "nbformat_minor": 0,
  "metadata": {
    "colab": {
      "provenance": []
    },
    "kernelspec": {
      "name": "python3",
      "display_name": "Python 3"
    },
    "language_info": {
      "name": "python"
    },
    "accelerator": "TPU"
  },
  "cells": [
    {
      "cell_type": "markdown",
      "source": [
        "#**ChatBOT**\n",
        "\n",
        "## Objective\n",
        "---\n",
        "*Chatbots are versatile tools that can be used for a wide range of applications, and the choice of technology depends on the specific use case. The integration of AI technologies, like NLP and ML, can significantly enhance a chatbot's ability to understand and respond to user queries effectively.*\n",
        "\n",
        "## Aim\n",
        "---\n",
        "*We are attempting to build a chatbot completely from the ground up, employing a TRANSFORMER model.*"
      ],
      "metadata": {
        "id": "JbOeVW_bcz5u"
      }
    },
    {
      "cell_type": "code",
      "execution_count": 2,
      "metadata": {
        "id": "_ozNNcdpcvDt"
      },
      "outputs": [],
      "source": [
        "import numpy as np\n",
        "import pandas as pd\n",
        "import tensorflow_datasets as tfds\n",
        "import tensorflow as tf"
      ]
    },
    {
      "cell_type": "markdown",
      "source": [
        "## Loading and cleaning Dialogs dataset"
      ],
      "metadata": {
        "id": "Ih8eXr0pt0x2"
      }
    },
    {
      "cell_type": "code",
      "source": [
        "from google.colab import drive\n",
        "drive.mount('/content/drive')\n",
        "df= pd.read_csv('/content/drive/MyDrive/ChatBot/dialogs_expanded.csv',encoding='latin-1')\n",
        "dataset = df[['question','answer']]\n",
        "dataset.head()"
      ],
      "metadata": {
        "colab": {
          "base_uri": "https://localhost:8080/",
          "height": 223
        },
        "id": "QAKutGvL35SX",
        "outputId": "c9a26614-8135-4c6a-97d1-728309b52d24"
      },
      "execution_count": 3,
      "outputs": [
        {
          "output_type": "stream",
          "name": "stdout",
          "text": [
            "Mounted at /content/drive\n"
          ]
        },
        {
          "output_type": "execute_result",
          "data": {
            "text/plain": [
              "                                            question  \\\n",
              "0  Well, I thought we'd start with pronunciation,...   \n",
              "1  Not the hacking and gagging and spitting part....   \n",
              "2  You're asking me out.  That's so cute. What's ...   \n",
              "3  No, no, it's my fault -- we didn't have a prop...   \n",
              "4     Gosh, if only we could find Kat a boyfriend...   \n",
              "\n",
              "                                              answer  \n",
              "0  Not the hacking and gagging and spitting part....  \n",
              "1  Okay... then how 'bout we try out some French ...  \n",
              "2                                         Forget it.  \n",
              "3                                           Cameron.  \n",
              "4                          Let me see what I can do.  "
            ],
            "text/html": [
              "\n",
              "  <div id=\"df-a0f2b73d-1a57-4b37-8a85-7400aaab70e2\" class=\"colab-df-container\">\n",
              "    <div>\n",
              "<style scoped>\n",
              "    .dataframe tbody tr th:only-of-type {\n",
              "        vertical-align: middle;\n",
              "    }\n",
              "\n",
              "    .dataframe tbody tr th {\n",
              "        vertical-align: top;\n",
              "    }\n",
              "\n",
              "    .dataframe thead th {\n",
              "        text-align: right;\n",
              "    }\n",
              "</style>\n",
              "<table border=\"1\" class=\"dataframe\">\n",
              "  <thead>\n",
              "    <tr style=\"text-align: right;\">\n",
              "      <th></th>\n",
              "      <th>question</th>\n",
              "      <th>answer</th>\n",
              "    </tr>\n",
              "  </thead>\n",
              "  <tbody>\n",
              "    <tr>\n",
              "      <th>0</th>\n",
              "      <td>Well, I thought we'd start with pronunciation,...</td>\n",
              "      <td>Not the hacking and gagging and spitting part....</td>\n",
              "    </tr>\n",
              "    <tr>\n",
              "      <th>1</th>\n",
              "      <td>Not the hacking and gagging and spitting part....</td>\n",
              "      <td>Okay... then how 'bout we try out some French ...</td>\n",
              "    </tr>\n",
              "    <tr>\n",
              "      <th>2</th>\n",
              "      <td>You're asking me out.  That's so cute. What's ...</td>\n",
              "      <td>Forget it.</td>\n",
              "    </tr>\n",
              "    <tr>\n",
              "      <th>3</th>\n",
              "      <td>No, no, it's my fault -- we didn't have a prop...</td>\n",
              "      <td>Cameron.</td>\n",
              "    </tr>\n",
              "    <tr>\n",
              "      <th>4</th>\n",
              "      <td>Gosh, if only we could find Kat a boyfriend...</td>\n",
              "      <td>Let me see what I can do.</td>\n",
              "    </tr>\n",
              "  </tbody>\n",
              "</table>\n",
              "</div>\n",
              "    <div class=\"colab-df-buttons\">\n",
              "\n",
              "  <div class=\"colab-df-container\">\n",
              "    <button class=\"colab-df-convert\" onclick=\"convertToInteractive('df-a0f2b73d-1a57-4b37-8a85-7400aaab70e2')\"\n",
              "            title=\"Convert this dataframe to an interactive table.\"\n",
              "            style=\"display:none;\">\n",
              "\n",
              "  <svg xmlns=\"http://www.w3.org/2000/svg\" height=\"24px\" viewBox=\"0 -960 960 960\">\n",
              "    <path d=\"M120-120v-720h720v720H120Zm60-500h600v-160H180v160Zm220 220h160v-160H400v160Zm0 220h160v-160H400v160ZM180-400h160v-160H180v160Zm440 0h160v-160H620v160ZM180-180h160v-160H180v160Zm440 0h160v-160H620v160Z\"/>\n",
              "  </svg>\n",
              "    </button>\n",
              "\n",
              "  <style>\n",
              "    .colab-df-container {\n",
              "      display:flex;\n",
              "      gap: 12px;\n",
              "    }\n",
              "\n",
              "    .colab-df-convert {\n",
              "      background-color: #E8F0FE;\n",
              "      border: none;\n",
              "      border-radius: 50%;\n",
              "      cursor: pointer;\n",
              "      display: none;\n",
              "      fill: #1967D2;\n",
              "      height: 32px;\n",
              "      padding: 0 0 0 0;\n",
              "      width: 32px;\n",
              "    }\n",
              "\n",
              "    .colab-df-convert:hover {\n",
              "      background-color: #E2EBFA;\n",
              "      box-shadow: 0px 1px 2px rgba(60, 64, 67, 0.3), 0px 1px 3px 1px rgba(60, 64, 67, 0.15);\n",
              "      fill: #174EA6;\n",
              "    }\n",
              "\n",
              "    .colab-df-buttons div {\n",
              "      margin-bottom: 4px;\n",
              "    }\n",
              "\n",
              "    [theme=dark] .colab-df-convert {\n",
              "      background-color: #3B4455;\n",
              "      fill: #D2E3FC;\n",
              "    }\n",
              "\n",
              "    [theme=dark] .colab-df-convert:hover {\n",
              "      background-color: #434B5C;\n",
              "      box-shadow: 0px 1px 3px 1px rgba(0, 0, 0, 0.15);\n",
              "      filter: drop-shadow(0px 1px 2px rgba(0, 0, 0, 0.3));\n",
              "      fill: #FFFFFF;\n",
              "    }\n",
              "  </style>\n",
              "\n",
              "    <script>\n",
              "      const buttonEl =\n",
              "        document.querySelector('#df-a0f2b73d-1a57-4b37-8a85-7400aaab70e2 button.colab-df-convert');\n",
              "      buttonEl.style.display =\n",
              "        google.colab.kernel.accessAllowed ? 'block' : 'none';\n",
              "\n",
              "      async function convertToInteractive(key) {\n",
              "        const element = document.querySelector('#df-a0f2b73d-1a57-4b37-8a85-7400aaab70e2');\n",
              "        const dataTable =\n",
              "          await google.colab.kernel.invokeFunction('convertToInteractive',\n",
              "                                                    [key], {});\n",
              "        if (!dataTable) return;\n",
              "\n",
              "        const docLinkHtml = 'Like what you see? Visit the ' +\n",
              "          '<a target=\"_blank\" href=https://colab.research.google.com/notebooks/data_table.ipynb>data table notebook</a>'\n",
              "          + ' to learn more about interactive tables.';\n",
              "        element.innerHTML = '';\n",
              "        dataTable['output_type'] = 'display_data';\n",
              "        await google.colab.output.renderOutput(dataTable, element);\n",
              "        const docLink = document.createElement('div');\n",
              "        docLink.innerHTML = docLinkHtml;\n",
              "        element.appendChild(docLink);\n",
              "      }\n",
              "    </script>\n",
              "  </div>\n",
              "\n",
              "\n",
              "<div id=\"df-7a032f87-f666-4be3-91b2-21fb5eb1164a\">\n",
              "  <button class=\"colab-df-quickchart\" onclick=\"quickchart('df-7a032f87-f666-4be3-91b2-21fb5eb1164a')\"\n",
              "            title=\"Suggest charts.\"\n",
              "            style=\"display:none;\">\n",
              "\n",
              "<svg xmlns=\"http://www.w3.org/2000/svg\" height=\"24px\"viewBox=\"0 0 24 24\"\n",
              "     width=\"24px\">\n",
              "    <g>\n",
              "        <path d=\"M19 3H5c-1.1 0-2 .9-2 2v14c0 1.1.9 2 2 2h14c1.1 0 2-.9 2-2V5c0-1.1-.9-2-2-2zM9 17H7v-7h2v7zm4 0h-2V7h2v10zm4 0h-2v-4h2v4z\"/>\n",
              "    </g>\n",
              "</svg>\n",
              "  </button>\n",
              "\n",
              "<style>\n",
              "  .colab-df-quickchart {\n",
              "      --bg-color: #E8F0FE;\n",
              "      --fill-color: #1967D2;\n",
              "      --hover-bg-color: #E2EBFA;\n",
              "      --hover-fill-color: #174EA6;\n",
              "      --disabled-fill-color: #AAA;\n",
              "      --disabled-bg-color: #DDD;\n",
              "  }\n",
              "\n",
              "  [theme=dark] .colab-df-quickchart {\n",
              "      --bg-color: #3B4455;\n",
              "      --fill-color: #D2E3FC;\n",
              "      --hover-bg-color: #434B5C;\n",
              "      --hover-fill-color: #FFFFFF;\n",
              "      --disabled-bg-color: #3B4455;\n",
              "      --disabled-fill-color: #666;\n",
              "  }\n",
              "\n",
              "  .colab-df-quickchart {\n",
              "    background-color: var(--bg-color);\n",
              "    border: none;\n",
              "    border-radius: 50%;\n",
              "    cursor: pointer;\n",
              "    display: none;\n",
              "    fill: var(--fill-color);\n",
              "    height: 32px;\n",
              "    padding: 0;\n",
              "    width: 32px;\n",
              "  }\n",
              "\n",
              "  .colab-df-quickchart:hover {\n",
              "    background-color: var(--hover-bg-color);\n",
              "    box-shadow: 0 1px 2px rgba(60, 64, 67, 0.3), 0 1px 3px 1px rgba(60, 64, 67, 0.15);\n",
              "    fill: var(--button-hover-fill-color);\n",
              "  }\n",
              "\n",
              "  .colab-df-quickchart-complete:disabled,\n",
              "  .colab-df-quickchart-complete:disabled:hover {\n",
              "    background-color: var(--disabled-bg-color);\n",
              "    fill: var(--disabled-fill-color);\n",
              "    box-shadow: none;\n",
              "  }\n",
              "\n",
              "  .colab-df-spinner {\n",
              "    border: 2px solid var(--fill-color);\n",
              "    border-color: transparent;\n",
              "    border-bottom-color: var(--fill-color);\n",
              "    animation:\n",
              "      spin 1s steps(1) infinite;\n",
              "  }\n",
              "\n",
              "  @keyframes spin {\n",
              "    0% {\n",
              "      border-color: transparent;\n",
              "      border-bottom-color: var(--fill-color);\n",
              "      border-left-color: var(--fill-color);\n",
              "    }\n",
              "    20% {\n",
              "      border-color: transparent;\n",
              "      border-left-color: var(--fill-color);\n",
              "      border-top-color: var(--fill-color);\n",
              "    }\n",
              "    30% {\n",
              "      border-color: transparent;\n",
              "      border-left-color: var(--fill-color);\n",
              "      border-top-color: var(--fill-color);\n",
              "      border-right-color: var(--fill-color);\n",
              "    }\n",
              "    40% {\n",
              "      border-color: transparent;\n",
              "      border-right-color: var(--fill-color);\n",
              "      border-top-color: var(--fill-color);\n",
              "    }\n",
              "    60% {\n",
              "      border-color: transparent;\n",
              "      border-right-color: var(--fill-color);\n",
              "    }\n",
              "    80% {\n",
              "      border-color: transparent;\n",
              "      border-right-color: var(--fill-color);\n",
              "      border-bottom-color: var(--fill-color);\n",
              "    }\n",
              "    90% {\n",
              "      border-color: transparent;\n",
              "      border-bottom-color: var(--fill-color);\n",
              "    }\n",
              "  }\n",
              "</style>\n",
              "\n",
              "  <script>\n",
              "    async function quickchart(key) {\n",
              "      const quickchartButtonEl =\n",
              "        document.querySelector('#' + key + ' button');\n",
              "      quickchartButtonEl.disabled = true;  // To prevent multiple clicks.\n",
              "      quickchartButtonEl.classList.add('colab-df-spinner');\n",
              "      try {\n",
              "        const charts = await google.colab.kernel.invokeFunction(\n",
              "            'suggestCharts', [key], {});\n",
              "      } catch (error) {\n",
              "        console.error('Error during call to suggestCharts:', error);\n",
              "      }\n",
              "      quickchartButtonEl.classList.remove('colab-df-spinner');\n",
              "      quickchartButtonEl.classList.add('colab-df-quickchart-complete');\n",
              "    }\n",
              "    (() => {\n",
              "      let quickchartButtonEl =\n",
              "        document.querySelector('#df-7a032f87-f666-4be3-91b2-21fb5eb1164a button');\n",
              "      quickchartButtonEl.style.display =\n",
              "        google.colab.kernel.accessAllowed ? 'block' : 'none';\n",
              "    })();\n",
              "  </script>\n",
              "</div>\n",
              "    </div>\n",
              "  </div>\n"
            ]
          },
          "metadata": {},
          "execution_count": 3
        }
      ]
    },
    {
      "cell_type": "markdown",
      "source": [
        "## Dividing into TWO, train/validation"
      ],
      "metadata": {
        "id": "Qqc3cneuuEDP"
      }
    },
    {
      "cell_type": "code",
      "source": [
        "from sklearn.model_selection import train_test_split\n",
        "train, validation = train_test_split(dataset, test_size=0.2, random_state=4)"
      ],
      "metadata": {
        "id": "4PDigyx2ty4R"
      },
      "execution_count": 4,
      "outputs": []
    },
    {
      "cell_type": "code",
      "source": [
        "vocab_ans = list(set(\" \".join(train['answer'].values).split()))\n",
        "vocab_ques = list(set(\" \".join(train['question'].values).split()))\n",
        "vocab_size_ans, vocab_size_ques = len(vocab_ans), len(vocab_ques)\n",
        "print(f\"vocab_size_ans, vocab_size_ques:{vocab_size_ans},{ vocab_size_ques}\")"
      ],
      "metadata": {
        "colab": {
          "base_uri": "https://localhost:8080/"
        },
        "id": "Xx_zjfA3uMj6",
        "outputId": "a04e268d-30f6-4b9f-c78c-d6daedc75092"
      },
      "execution_count": 5,
      "outputs": [
        {
          "output_type": "stream",
          "name": "stdout",
          "text": [
            "vocab_size_ans, vocab_size_ques:69033,69156\n"
          ]
        }
      ]
    },
    {
      "cell_type": "markdown",
      "source": [
        "## Using tfds SubwordTextEncoder, it will create tokens\n",
        "\n",
        "**example Multiplication -> Multi, pli, cat, i, on**\n",
        "\n",
        "**Advantages:**\n",
        "1. Reduces vocab size => faster learning\n",
        "2. Reduces chances of missing word in test data"
      ],
      "metadata": {
        "id": "y9S8litQvARj"
      }
    },
    {
      "cell_type": "code",
      "source": [
        "tokenizer_a = tfds.deprecated.text.SubwordTextEncoder.build_from_corpus(\n",
        "    train['answer'], target_vocab_size=2**17)\n",
        "\n",
        "tokenizer_q = tfds.deprecated.text.SubwordTextEncoder.build_from_corpus(\n",
        "    train['question'], target_vocab_size=2**17)"
      ],
      "metadata": {
        "id": "2k3qy-QqvZQm"
      },
      "execution_count": 6,
      "outputs": []
    },
    {
      "cell_type": "code",
      "source": [
        "print(f\"tokenizer_q:{tokenizer_q.vocab_size}\")\n",
        "print(f\"tokenizer_a:{tokenizer_a.vocab_size}\")"
      ],
      "metadata": {
        "colab": {
          "base_uri": "https://localhost:8080/"
        },
        "id": "ni3W1BGQvhvx",
        "outputId": "a1f0b279-f19f-46d9-b04c-235625ec5be2"
      },
      "execution_count": 7,
      "outputs": [
        {
          "output_type": "stream",
          "name": "stdout",
          "text": [
            "tokenizer_q:43958\n",
            "tokenizer_a:44082\n"
          ]
        }
      ]
    },
    {
      "cell_type": "markdown",
      "source": [
        "**Examples of subword tokenization in action!**"
      ],
      "metadata": {
        "id": "aOHBrbnSyicn"
      }
    },
    {
      "cell_type": "code",
      "source": [
        "sample_string = 'Encoder decoder'\n",
        "\n",
        "tokenized_string = tokenizer_a.encode(sample_string)\n",
        "print ('Tokenized string is {}'.format(tokenized_string))\n",
        "\n",
        "original_string = tokenizer_a.decode(tokenized_string)\n",
        "print ('The original string: {}'.format(original_string))\n",
        "\n",
        "for token in tokenized_string:\n",
        "    print(str(token) + \"---->\" + tokenizer_a.decode([token]))\n",
        "\n",
        "print(\"=\"*80)\n",
        "tokenized_string = tokenizer_q.encode(sample_string)\n",
        "print ('Tokenized string is {}'.format(tokenized_string))\n",
        "\n",
        "original_string = tokenizer_q.decode(tokenized_string)\n",
        "print ('The original string: {}'.format(original_string))\n",
        "\n",
        "for token in tokenized_string:\n",
        "    print(str(token) + \"---->\" + tokenizer_q.decode([token]))"
      ],
      "metadata": {
        "colab": {
          "base_uri": "https://localhost:8080/"
        },
        "id": "ZE3PCRxTylXI",
        "outputId": "7e5dae02-22e1-4596-8aa0-4378095d0727"
      },
      "execution_count": 8,
      "outputs": [
        {
          "output_type": "stream",
          "name": "stdout",
          "text": [
            "Tokenized string is [43895, 43936, 3495, 12064, 5439, 3495, 43940]\n",
            "The original string: Encoder decoder\n",
            "43895---->E\n",
            "43936---->n\n",
            "3495---->code\n",
            "12064---->r \n",
            "5439---->de\n",
            "3495---->code\n",
            "43940---->r\n",
            "================================================================================\n",
            "Tokenized string is [43771, 43812, 3050, 12091, 30962, 43816]\n",
            "The original string: Encoder decoder\n",
            "43771---->E\n",
            "43812---->n\n",
            "3050---->code\n",
            "12091---->r \n",
            "30962---->decode\n",
            "43816---->r\n"
          ]
        }
      ]
    },
    {
      "cell_type": "code",
      "source": [
        "def encode(ques, ans):\n",
        "    ques = [tokenizer_q.vocab_size] + tokenizer_q.encode(ques.numpy()) + [tokenizer_q.vocab_size+1]\n",
        "    ans = [tokenizer_a.vocab_size] + tokenizer_a.encode(ans.numpy()) + [tokenizer_a.vocab_size+1]\n",
        "    return ques, ans\n",
        "\n",
        "def tf_encode(ques, ans):\n",
        "    result_ques, result_ans = tf.py_function(encode, [ques, ans], [tf.int64, tf.int64])\n",
        "    result_ques.set_shape([None])\n",
        "    result_ans.set_shape([None])\n",
        "    return result_ques, result_ans"
      ],
      "metadata": {
        "id": "ZRJeDpO3zJyf"
      },
      "execution_count": 9,
      "outputs": []
    },
    {
      "cell_type": "code",
      "source": [
        "print(train['question'].values[0],\"\\n\",train['answer'].values[0])\n",
        "question, answer = tf_encode(train['question'].values[0],train['answer'].values[0])\n",
        "print(question)\n",
        "print(answer)"
      ],
      "metadata": {
        "colab": {
          "base_uri": "https://localhost:8080/"
        },
        "id": "ghxMmo-GzLkc",
        "outputId": "8fb29dee-c1fb-4d66-9246-1ef8f564de13"
      },
      "execution_count": 10,
      "outputs": [
        {
          "output_type": "stream",
          "name": "stdout",
          "text": [
            "And the fifty's all gone, huh? Who's the ten for? \n",
            " The Websters.\n",
            "tf.Tensor(\n",
            "[43958    69     5  1383 43741     6    60   630     1   318    35   342\n",
            " 43741     6     5   590   275 43765 43959], shape=(19,), dtype=int64)\n",
            "tf.Tensor([44082    54 18800 43872 44083], shape=(5,), dtype=int64)\n"
          ]
        }
      ]
    },
    {
      "cell_type": "markdown",
      "source": [
        "## Creating train_dataset/test_dataset object from Dataframe + padding"
      ],
      "metadata": {
        "id": "UinFBBp5zgJc"
      }
    },
    {
      "cell_type": "code",
      "source": [
        "train_dataset = tf.data.Dataset.from_tensor_slices(dict(train))\n",
        "train_dataset = train_dataset.map(lambda x:tf_encode(x['question'], x['answer']))\n",
        "train_dataset = train_dataset.cache()\n",
        "train_dataset = train_dataset.shuffle(20000).padded_batch(64, padded_shapes=([None],[None]))\n",
        "train_dataset = train_dataset.prefetch(tf.data.experimental.AUTOTUNE)"
      ],
      "metadata": {
        "id": "ah2x5itezh0M"
      },
      "execution_count": 11,
      "outputs": []
    },
    {
      "cell_type": "code",
      "source": [
        "val_dataset = tf.data.Dataset.from_tensor_slices(dict(validation))\n",
        "val_dataset = val_dataset.map(lambda x:tf_encode(x['question'], x['answer']))\n",
        "val_dataset = val_dataset.padded_batch(64, padded_shapes=([None],[None]))"
      ],
      "metadata": {
        "id": "XG_4ZUN4zuCX"
      },
      "execution_count": 12,
      "outputs": []
    },
    {
      "cell_type": "code",
      "source": [
        "question, answer = next(iter(train_dataset))\n",
        "question"
      ],
      "metadata": {
        "colab": {
          "base_uri": "https://localhost:8080/"
        },
        "id": "4fK6R4-p0FQf",
        "outputId": "08561577-3a80-4c59-ce0a-119ace63ac5e"
      },
      "execution_count": 13,
      "outputs": [
        {
          "output_type": "execute_result",
          "data": {
            "text/plain": [
              "<tf.Tensor: shape=(64, 28), dtype=int64, numpy=\n",
              "array([[43958,   284,    34, ...,     0,     0,     0],\n",
              "       [43958,  2565,  1327, ...,     0,     0,     0],\n",
              "       [43958,   103, 43741, ...,     0,     0,     0],\n",
              "       ...,\n",
              "       [43958,    12,    42, ...,     0,     0,     0],\n",
              "       [43958,   171,  1379, ...,     0,     0,     0],\n",
              "       [43958,   713,    15, ...,     0,     0,     0]])>"
            ]
          },
          "metadata": {},
          "execution_count": 13
        }
      ]
    },
    {
      "cell_type": "markdown",
      "source": [
        "# **Positional encoding function where 'i' -> embedding dimn index, 'pos' -> word index in a sentence**"
      ],
      "metadata": {
        "id": "UaGtmD7MG4JL"
      }
    },
    {
      "cell_type": "code",
      "source": [
        "from IPython.display import display, HTML\n",
        "\n",
        "# MathML content\n",
        "mathml_content = \"\"\"\n",
        "<math xmlns=\"http://www.w3.org/1998/Math/MathML\" display=\"block\">\n",
        "  <mstyle mathsize=\"1.44em\">\n",
        "    <mrow data-mjx-texclass=\"ORD\">\n",
        "      <mi>P</mi>\n",
        "      <msub>\n",
        "        <mi>E</mi>\n",
        "        <mrow data-mjx-texclass=\"ORD\">\n",
        "          <mo stretchy=\"false\">(</mo>\n",
        "          <mi>p</mi>\n",
        "          <mi>o</mi>\n",
        "          <mi>s</mi>\n",
        "          <mo>,</mo>\n",
        "          <mn>2</mn>\n",
        "          <mi>i</mi>\n",
        "          <mo stretchy=\"false\">)</mo>\n",
        "        </mrow>\n",
        "      </msub>\n",
        "      <mo>=</mo>\n",
        "      <mi>s</mi>\n",
        "      <mi>i</mi>\n",
        "      <mi>n</mi>\n",
        "      <mo stretchy=\"false\">(</mo>\n",
        "      <mi>p</mi>\n",
        "      <mi>o</mi>\n",
        "      <mi>s</mi>\n",
        "      <mrow data-mjx-texclass=\"ORD\">\n",
        "        <mo>/</mo>\n",
        "      </mrow>\n",
        "      <msup>\n",
        "        <mn>10000</mn>\n",
        "        <mrow data-mjx-texclass=\"ORD\">\n",
        "          <mn>2</mn>\n",
        "          <mi>i</mi>\n",
        "          <mrow data-mjx-texclass=\"ORD\">\n",
        "            <mo>/</mo>\n",
        "          </mrow>\n",
        "          <msub>\n",
        "            <mi>d</mi>\n",
        "            <mrow data-mjx-texclass=\"ORD\">\n",
        "              <mi>m</mi>\n",
        "              <mi>o</mi>\n",
        "              <mi>d</mi>\n",
        "              <mi>e</mi>\n",
        "              <mi>l</mi>\n",
        "            </mrow>\n",
        "          </msub>\n",
        "        </mrow>\n",
        "      </msup>\n",
        "      <mo stretchy=\"false\">)</mo>\n",
        "    </mrow>\n",
        "  </mstyle>\n",
        "</math>\n",
        "\"\"\"\n",
        "\n",
        "# MathJax configuration\n",
        "mathjax_config = \"\"\"\n",
        "<script type=\"text/x-mathjax-config\">\n",
        "  MathJax.Hub.Config({\n",
        "    extensions: [\"mml2jax.js\"],\n",
        "    jax: [\"input/MathML\",\"output/HTML-CSS\"],\n",
        "    showMathMenu: false,\n",
        "    showMathMenuMSIE: false\n",
        "  });\n",
        "</script>\n",
        "<script type=\"text/javascript\" async\n",
        "  src=\"https://cdn.jsdelivr.net/npm/mathjax@2.7.7/MathJax.js\">\n",
        "</script>\n",
        "\"\"\"\n",
        "\n",
        "# Combine MathML content and MathJax configuration\n",
        "html_code = f\"{mathml_content}\\n{mathjax_config}\"\n",
        "\n",
        "# Display the HTML with MathML and MathJax\n",
        "display(HTML(html_code))\n"
      ],
      "metadata": {
        "id": "6cO8L5WlJ4Ar",
        "outputId": "0ace3d43-0eaf-43e2-c987-8db2c381d0ec",
        "colab": {
          "base_uri": "https://localhost:8080/",
          "height": 79
        }
      },
      "execution_count": 19,
      "outputs": [
        {
          "output_type": "display_data",
          "data": {
            "text/plain": [
              "<IPython.core.display.HTML object>"
            ],
            "text/html": [
              "\n",
              "<math xmlns=\"http://www.w3.org/1998/Math/MathML\" display=\"block\">\n",
              "  <mstyle mathsize=\"1.44em\">\n",
              "    <mrow data-mjx-texclass=\"ORD\">\n",
              "      <mi>P</mi>\n",
              "      <msub>\n",
              "        <mi>E</mi>\n",
              "        <mrow data-mjx-texclass=\"ORD\">\n",
              "          <mo stretchy=\"false\">(</mo>\n",
              "          <mi>p</mi>\n",
              "          <mi>o</mi>\n",
              "          <mi>s</mi>\n",
              "          <mo>,</mo>\n",
              "          <mn>2</mn>\n",
              "          <mi>i</mi>\n",
              "          <mo stretchy=\"false\">)</mo>\n",
              "        </mrow>\n",
              "      </msub>\n",
              "      <mo>=</mo>\n",
              "      <mi>s</mi>\n",
              "      <mi>i</mi>\n",
              "      <mi>n</mi>\n",
              "      <mo stretchy=\"false\">(</mo>\n",
              "      <mi>p</mi>\n",
              "      <mi>o</mi>\n",
              "      <mi>s</mi>\n",
              "      <mrow data-mjx-texclass=\"ORD\">\n",
              "        <mo>/</mo>\n",
              "      </mrow>\n",
              "      <msup>\n",
              "        <mn>10000</mn>\n",
              "        <mrow data-mjx-texclass=\"ORD\">\n",
              "          <mn>2</mn>\n",
              "          <mi>i</mi>\n",
              "          <mrow data-mjx-texclass=\"ORD\">\n",
              "            <mo>/</mo>\n",
              "          </mrow>\n",
              "          <msub>\n",
              "            <mi>d</mi>\n",
              "            <mrow data-mjx-texclass=\"ORD\">\n",
              "              <mi>m</mi>\n",
              "              <mi>o</mi>\n",
              "              <mi>d</mi>\n",
              "              <mi>e</mi>\n",
              "              <mi>l</mi>\n",
              "            </mrow>\n",
              "          </msub>\n",
              "        </mrow>\n",
              "      </msup>\n",
              "      <mo stretchy=\"false\">)</mo>\n",
              "    </mrow>\n",
              "  </mstyle>\n",
              "</math>\n",
              "\n",
              "\n",
              "<script type=\"text/x-mathjax-config\">\n",
              "  MathJax.Hub.Config({ \n",
              "    extensions: [\"mml2jax.js\"],\n",
              "    jax: [\"input/MathML\",\"output/HTML-CSS\"], \n",
              "    showMathMenu: false,\n",
              "    showMathMenuMSIE: false\n",
              "  });\n",
              "</script>\n",
              "<script type=\"text/javascript\" async\n",
              "  src=\"https://cdn.jsdelivr.net/npm/mathjax@2.7.7/MathJax.js\">\n",
              "</script>\n"
            ]
          },
          "metadata": {}
        }
      ]
    },
    {
      "cell_type": "code",
      "source": [
        "from IPython.display import display, HTML\n",
        "\n",
        "# MathML content\n",
        "mathml_content = \"\"\"\n",
        "<math xmlns=\"http://www.w3.org/1998/Math/MathML\" display=\"block\">\n",
        "  <mstyle mathsize=\"1.44em\">\n",
        "    <mrow data-mjx-texclass=\"ORD\">\n",
        "      <mi>P</mi>\n",
        "      <msub>\n",
        "        <mi>E</mi>\n",
        "        <mrow data-mjx-texclass=\"ORD\">\n",
        "          <mo stretchy=\"false\">(</mo>\n",
        "          <mi>p</mi>\n",
        "          <mi>o</mi>\n",
        "          <mi>s</mi>\n",
        "          <mo>,</mo>\n",
        "          <mn>2</mn>\n",
        "          <mi>i</mi>\n",
        "          <mo>+</mo>\n",
        "          <mn>1</mn>\n",
        "          <mo stretchy=\"false\">)</mo>\n",
        "        </mrow>\n",
        "      </msub>\n",
        "      <mo>=</mo>\n",
        "      <mi>c</mi>\n",
        "      <mi>o</mi>\n",
        "      <mi>s</mi>\n",
        "      <mo stretchy=\"false\">(</mo>\n",
        "      <mi>p</mi>\n",
        "      <mi>o</mi>\n",
        "      <mi>s</mi>\n",
        "      <mrow data-mjx-texclass=\"ORD\">\n",
        "        <mo>/</mo>\n",
        "      </mrow>\n",
        "      <msup>\n",
        "        <mn>10000</mn>\n",
        "        <mrow data-mjx-texclass=\"ORD\">\n",
        "          <mn>2</mn>\n",
        "          <mi>i</mi>\n",
        "          <mrow data-mjx-texclass=\"ORD\">\n",
        "            <mo>/</mo>\n",
        "          </mrow>\n",
        "          <msub>\n",
        "            <mi>d</mi>\n",
        "            <mrow data-mjx-texclass=\"ORD\">\n",
        "              <mi>m</mi>\n",
        "              <mi>o</mi>\n",
        "              <mi>d</mi>\n",
        "              <mi>e</mi>\n",
        "              <mi>l</mi>\n",
        "            </mrow>\n",
        "          </msub>\n",
        "        </mrow>\n",
        "      </msup>\n",
        "      <mo stretchy=\"false\">)</mo>\n",
        "    </mrow>\n",
        "  </mstyle>\n",
        "</math>\n",
        "\"\"\"\n",
        "\n",
        "# MathJax configuration\n",
        "mathjax_config = \"\"\"\n",
        "<script type=\"text/x-mathjax-config\">\n",
        "  MathJax.Hub.Config({\n",
        "    extensions: [\"mml2jax.js\"],\n",
        "    jax: [\"input/MathML\",\"output/HTML-CSS\"],\n",
        "    showMathMenu: false,\n",
        "    showMathMenuMSIE: false\n",
        "  });\n",
        "</script>\n",
        "<script type=\"text/javascript\" async\n",
        "  src=\"https://cdn.jsdelivr.net/npm/mathjax@2.7.7/MathJax.js\">\n",
        "</script>\n",
        "\"\"\"\n",
        "\n",
        "# Combine MathML content and MathJax configuration\n",
        "html_code = f\"{mathml_content}\\n{mathjax_config}\"\n",
        "\n",
        "# Display the HTML with MathML and MathJax\n",
        "display(HTML(html_code))"
      ],
      "metadata": {
        "id": "vFzQ6dnnKel5",
        "outputId": "ae0c1b4d-62f9-4d84-ab0c-51e6b5695e8d",
        "colab": {
          "base_uri": "https://localhost:8080/",
          "height": 79
        }
      },
      "execution_count": 20,
      "outputs": [
        {
          "output_type": "display_data",
          "data": {
            "text/plain": [
              "<IPython.core.display.HTML object>"
            ],
            "text/html": [
              "\n",
              "<math xmlns=\"http://www.w3.org/1998/Math/MathML\" display=\"block\">\n",
              "  <mstyle mathsize=\"1.44em\">\n",
              "    <mrow data-mjx-texclass=\"ORD\">\n",
              "      <mi>P</mi>\n",
              "      <msub>\n",
              "        <mi>E</mi>\n",
              "        <mrow data-mjx-texclass=\"ORD\">\n",
              "          <mo stretchy=\"false\">(</mo>\n",
              "          <mi>p</mi>\n",
              "          <mi>o</mi>\n",
              "          <mi>s</mi>\n",
              "          <mo>,</mo>\n",
              "          <mn>2</mn>\n",
              "          <mi>i</mi>\n",
              "          <mo>+</mo>\n",
              "          <mn>1</mn>\n",
              "          <mo stretchy=\"false\">)</mo>\n",
              "        </mrow>\n",
              "      </msub>\n",
              "      <mo>=</mo>\n",
              "      <mi>c</mi>\n",
              "      <mi>o</mi>\n",
              "      <mi>s</mi>\n",
              "      <mo stretchy=\"false\">(</mo>\n",
              "      <mi>p</mi>\n",
              "      <mi>o</mi>\n",
              "      <mi>s</mi>\n",
              "      <mrow data-mjx-texclass=\"ORD\">\n",
              "        <mo>/</mo>\n",
              "      </mrow>\n",
              "      <msup>\n",
              "        <mn>10000</mn>\n",
              "        <mrow data-mjx-texclass=\"ORD\">\n",
              "          <mn>2</mn>\n",
              "          <mi>i</mi>\n",
              "          <mrow data-mjx-texclass=\"ORD\">\n",
              "            <mo>/</mo>\n",
              "          </mrow>\n",
              "          <msub>\n",
              "            <mi>d</mi>\n",
              "            <mrow data-mjx-texclass=\"ORD\">\n",
              "              <mi>m</mi>\n",
              "              <mi>o</mi>\n",
              "              <mi>d</mi>\n",
              "              <mi>e</mi>\n",
              "              <mi>l</mi>\n",
              "            </mrow>\n",
              "          </msub>\n",
              "        </mrow>\n",
              "      </msup>\n",
              "      <mo stretchy=\"false\">)</mo>\n",
              "    </mrow>\n",
              "  </mstyle>\n",
              "</math>\n",
              "\n",
              "\n",
              "<script type=\"text/x-mathjax-config\">\n",
              "  MathJax.Hub.Config({ \n",
              "    extensions: [\"mml2jax.js\"],\n",
              "    jax: [\"input/MathML\",\"output/HTML-CSS\"], \n",
              "    showMathMenu: false,\n",
              "    showMathMenuMSIE: false\n",
              "  });\n",
              "</script>\n",
              "<script type=\"text/javascript\" async\n",
              "  src=\"https://cdn.jsdelivr.net/npm/mathjax@2.7.7/MathJax.js\">\n",
              "</script>\n"
            ]
          },
          "metadata": {}
        }
      ]
    },
    {
      "cell_type": "markdown",
      "source": [
        "\n",
        "\n",
        "<math xmlns=\"http://www.w3.org/1998/Math/MathML\" display=\"block\">\n",
        "  <mstyle mathsize=\"1.44em\">\n",
        "    <mrow data-mjx-texclass=\"ORD\">\n",
        "      <mi>P</mi>\n",
        "      <msub>\n",
        "        <mi>E</mi>\n",
        "        <mrow data-mjx-texclass=\"ORD\">\n",
        "          <mo stretchy=\"false\">(</mo>\n",
        "          <mi>p</mi>\n",
        "          <mi>o</mi>\n",
        "          <mi>s</mi>\n",
        "          <mo>,</mo>\n",
        "          <mn>2</mn>\n",
        "          <mi>i</mi>\n",
        "          <mo>+</mo>\n",
        "          <mn>1</mn>\n",
        "          <mo stretchy=\"false\">)</mo>\n",
        "        </mrow>\n",
        "      </msub>\n",
        "      <mo>=</mo>\n",
        "      <mi>c</mi>\n",
        "      <mi>o</mi>\n",
        "      <mi>s</mi>\n",
        "      <mo stretchy=\"false\">(</mo>\n",
        "      <mi>p</mi>\n",
        "      <mi>o</mi>\n",
        "      <mi>s</mi>\n",
        "      <mrow data-mjx-texclass=\"ORD\">\n",
        "        <mo>/</mo>\n",
        "      </mrow>\n",
        "      <msup>\n",
        "        <mn>10000</mn>\n",
        "        <mrow data-mjx-texclass=\"ORD\">\n",
        "          <mn>2</mn>\n",
        "          <mi>i</mi>\n",
        "          <mrow data-mjx-texclass=\"ORD\">\n",
        "            <mo>/</mo>\n",
        "          </mrow>\n",
        "          <msub>\n",
        "            <mi>d</mi>\n",
        "            <mrow data-mjx-texclass=\"ORD\">\n",
        "              <mi>m</mi>\n",
        "              <mi>o</mi>\n",
        "              <mi>d</mi>\n",
        "              <mi>e</mi>\n",
        "              <mi>l</mi>\n",
        "            </mrow>\n",
        "          </msub>\n",
        "        </mrow>\n",
        "      </msup>\n",
        "      <mo stretchy=\"false\">)</mo>\n",
        "    </mrow>\n",
        "  </mstyle>\n",
        "</math>"
      ],
      "metadata": {
        "id": "i3l74R5lHDBN"
      }
    }
  ]
}